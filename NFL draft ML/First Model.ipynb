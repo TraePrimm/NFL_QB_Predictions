{
 "cells": [
  {
   "cell_type": "code",
   "execution_count": 1,
   "metadata": {},
   "outputs": [],
   "source": [
    "import pandas as pd\n",
    "import numpy as np"
   ]
  },
  {
   "cell_type": "code",
   "execution_count": 2,
   "metadata": {},
   "outputs": [],
   "source": [
    "df=pd.read_csv(\"QBs/2004-2011 college stats csv.csv\")\n"
   ]
  },
  {
   "cell_type": "code",
   "execution_count": 3,
   "metadata": {},
   "outputs": [
    {
     "name": "stdout",
     "output_type": "stream",
     "text": [
      "   rank          Player  Games  cmp   att   pct    yds  y/a  ay/a  td  ...  \\\n",
      "0     1     Andrew Luck     38  713  1064  67.0   9430  8.9   9.5  82  ...   \n",
      "1     2   Rober Griffin     41  800  1192  67.1  10366  8.7   9.4  78  ...   \n",
      "2     3   Ryan Tanehill     50  484   774  62.5   5450  7.0   6.9  42  ...   \n",
      "3     4  Brandon Weeden     30  767  1103  69.5   9260  8.4   8.7  75  ...   \n",
      "4     5  Brock Osweiler     35  412   680  60.6   5082  7.5   7.5  33  ...   \n",
      "\n",
      "     td/int      yds/td     yds/int        NQBR     QBRDIF  ttl tds  \\\n",
      "0  3.727273  115.000000  428.636364  120.198935  42.601065       89   \n",
      "1  4.588235  132.897436  609.764706  115.820749  43.079251      111   \n",
      "2  2.000000  129.761905  259.523810  101.168174  33.031826       47   \n",
      "3  2.777778  123.466667  342.962963  117.269190  40.330810       76   \n",
      "4  2.200000  154.000000  338.800000   99.522059  35.477941       37   \n",
      "\n",
      "   ttltd/int    yds/cmp    ttlyds/G  score  \n",
      "0   4.045455  13.225806  265.447368      1  \n",
      "1   6.529412  12.957500  307.804878      2  \n",
      "2   2.238095  11.260331  116.380000      2  \n",
      "3   2.814815  12.073012  303.666667      3  \n",
      "4   2.466667  12.334951  151.514286      3  \n",
      "\n",
      "[5 rows x 27 columns]\n"
     ]
    }
   ],
   "source": [
    "print(df.head())"
   ]
  },
  {
   "cell_type": "code",
   "execution_count": 4,
   "metadata": {},
   "outputs": [
    {
     "data": {
      "text/plain": [
       "rank           int64\n",
       "Player        object\n",
       "Games          int64\n",
       "cmp            int64\n",
       "att            int64\n",
       "pct          float64\n",
       "yds            int64\n",
       "y/a          float64\n",
       "ay/a         float64\n",
       "td             int64\n",
       "int            int64\n",
       "CQBR         float64\n",
       "att.1          int64\n",
       "yds.1          int64\n",
       "avg          float64\n",
       "td.1           int64\n",
       "ttl yds        int64\n",
       "td/int       float64\n",
       "yds/td       float64\n",
       "yds/int      float64\n",
       "NQBR         float64\n",
       "QBRDIF       float64\n",
       "ttl tds        int64\n",
       "ttltd/int    float64\n",
       "yds/cmp      float64\n",
       "ttlyds/G     float64\n",
       "score          int64\n",
       "dtype: object"
      ]
     },
     "execution_count": 4,
     "metadata": {},
     "output_type": "execute_result"
    }
   ],
   "source": [
    "df.dtypes"
   ]
  },
  {
   "cell_type": "code",
   "execution_count": 5,
   "metadata": {},
   "outputs": [
    {
     "name": "stdout",
     "output_type": "stream",
     "text": [
      "Index(['rank', 'Player', 'Games', 'cmp', 'att', 'pct', 'yds', 'y/a', 'ay/a',\n",
      "       'td', 'int', 'CQBR', 'att.1', 'yds.1', 'avg', 'td.1', 'ttl yds',\n",
      "       'td/int', 'yds/td', 'yds/int', 'NQBR', 'QBRDIF', 'ttl tds', 'ttltd/int',\n",
      "       'yds/cmp', 'ttlyds/G', 'score'],\n",
      "      dtype='object')\n"
     ]
    }
   ],
   "source": [
    "print(df.columns)"
   ]
  },
  {
   "cell_type": "code",
   "execution_count": 6,
   "metadata": {},
   "outputs": [],
   "source": [
    "from sklearn.svm import LinearSVC\n",
    "from sklearn.model_selection import train_test_split\n",
    "from sklearn import metrics"
   ]
  },
  {
   "cell_type": "code",
   "execution_count": 7,
   "metadata": {},
   "outputs": [],
   "source": [
    "test_cols=['Games', 'cmp', 'att', 'pct', 'yds', 'y/a', 'ay/a',\n",
    "       'td', 'int', 'CQBR', 'att.1', 'yds.1', 'avg', 'td.1', 'ttl yds',\n",
    "       'td/int', 'yds/td', 'yds/int', 'NQBR', 'QBRDIF', 'ttl tds', 'ttltd/int',\n",
    "       'yds/cmp', 'ttlyds/G']\n",
    "\n",
    "X = df[test_cols]\n",
    "y = df.score"
   ]
  },
  {
   "cell_type": "code",
   "execution_count": 8,
   "metadata": {},
   "outputs": [],
   "source": [
    "X_train, X_test, y_train, y_test =train_test_split(X, y, test_size=0.3, random_state=1)\n",
    "#70% train 30%test"
   ]
  },
  {
   "cell_type": "code",
   "execution_count": 32,
   "metadata": {},
   "outputs": [
    {
     "name": "stderr",
     "output_type": "stream",
     "text": [
      "C:\\Users\\traep\\anaconda3\\envs\\qbml\\lib\\site-packages\\sklearn\\svm\\_base.py:947: ConvergenceWarning: Liblinear failed to converge, increase the number of iterations.\n",
      "  \"the number of iterations.\", ConvergenceWarning)\n"
     ]
    },
    {
     "data": {
      "text/plain": [
       "LinearSVC(C=1.0, class_weight=None, dual=True, fit_intercept=True,\n",
       "          intercept_scaling=1, loss='squared_hinge', max_iter=100000,\n",
       "          multi_class='ovr', penalty='l2', random_state=0, tol=0.0001,\n",
       "          verbose=0)"
      ]
     },
     "execution_count": 32,
     "metadata": {},
     "output_type": "execute_result"
    }
   ],
   "source": [
    "clf = LinearSVC(random_state=0, max_iter=100000)\n",
    "clf.fit(X_train, y_train)"
   ]
  },
  {
   "cell_type": "code",
   "execution_count": 34,
   "metadata": {},
   "outputs": [
    {
     "data": {
      "text/plain": [
       "array([3, 3, 3, 1, 3, 3, 3, 3, 3, 3, 3, 3, 3, 3, 3, 3, 3, 3, 3, 3, 3, 3,\n",
       "       3, 3, 3, 3, 3, 1, 3, 3, 3, 3], dtype=int64)"
      ]
     },
     "execution_count": 34,
     "metadata": {},
     "output_type": "execute_result"
    }
   ],
   "source": [
    "clf.predict(X_test)"
   ]
  },
  {
   "cell_type": "code",
   "execution_count": 35,
   "metadata": {},
   "outputs": [
    {
     "data": {
      "text/plain": [
       "0.71875"
      ]
     },
     "execution_count": 35,
     "metadata": {},
     "output_type": "execute_result"
    }
   ],
   "source": [
    "clf.score(X_test,y_test)"
   ]
  },
  {
   "cell_type": "code",
   "execution_count": null,
   "metadata": {},
   "outputs": [],
   "source": []
  },
  {
   "cell_type": "code",
   "execution_count": 41,
   "metadata": {},
   "outputs": [],
   "source": [
    "proof = pd.read_csv(\"QBs/players to test.csv\")"
   ]
  },
  {
   "cell_type": "code",
   "execution_count": 42,
   "metadata": {},
   "outputs": [
    {
     "data": {
      "text/plain": [
       "<bound method NDFrame.head of    rank           Player  Games  cmp   att   pct    yds   y/a  ay/a  td  ...  \\\n",
       "0     1   Mitch Trubisky     31  386   572  67.5   4762   8.3   9.0  41  ...   \n",
       "1     2  Patrick Mahomes     32  857  1349  63.5  11252   8.3   8.8  93  ...   \n",
       "2     3      Jordan Love     38  689  1125  61.2   8600   7.6   7.6  60  ...   \n",
       "3     4   Tua Tagovailoa     32  474   684  69.3   7442  10.9  10.9  87  ...   \n",
       "4     5   Justin Herbert     43  827  1293  64.0  10541   8.2   8.8  95  ...   \n",
       "5     6      Jalen Hurts     56  682  1047  65.1   9477   9.1   9.7  80  ...   \n",
       "6     7       Joe Burrow     38  650   945  68.8   8852   9.4  10.5  78  ...   \n",
       "\n",
       "     td/int      yds/td   yds/int        NQBR     QBRDIF  ttl tds  ttltd/int  \\\n",
       "0  4.100000  116.146342  476.2000  116.608392  40.991608       49   4.900000   \n",
       "1  3.206897  120.989247  388.0000  112.399617  39.600383      115   3.965517   \n",
       "2  2.068966  143.333300  296.5517  102.320370  35.579630       69   2.379310   \n",
       "3  7.606061   85.540230  676.5455  144.480990  54.919010       96   8.727273   \n",
       "4  4.130435  110.957900  458.3043  113.545690  39.554310      108   4.695652   \n",
       "5  4.000000  118.462500  473.8500  119.231530  43.368470      100   5.000000   \n",
       "6  7.090909  113.487200  804.7273  125.751760  46.648240       91   8.272727   \n",
       "\n",
       "     yds/cmp    ttlyds/G  score  \n",
       "0  12.336788  167.774193    3.0  \n",
       "1  13.129522  378.031250    1.0  \n",
       "2  12.481860  236.921100    NaN  \n",
       "3  15.700420  243.187500    NaN  \n",
       "4  12.746070  258.162800    NaN  \n",
       "5  13.895890  227.696400    NaN  \n",
       "6  13.618460  254.526300    NaN  \n",
       "\n",
       "[7 rows x 27 columns]>"
      ]
     },
     "execution_count": 42,
     "metadata": {},
     "output_type": "execute_result"
    }
   ],
   "source": [
    "proof.head"
   ]
  },
  {
   "cell_type": "code",
   "execution_count": 44,
   "metadata": {},
   "outputs": [],
   "source": [
    "tX=proof[test_cols]\n",
    "tY=proof.score"
   ]
  },
  {
   "cell_type": "code",
   "execution_count": 73,
   "metadata": {},
   "outputs": [],
   "source": [
    "results=clf.predict(tX)\n",
    "names = proof.Player"
   ]
  },
  {
   "cell_type": "code",
   "execution_count": 37,
   "metadata": {},
   "outputs": [],
   "source": [
    "import pickle"
   ]
  },
  {
   "cell_type": "code",
   "execution_count": 39,
   "metadata": {},
   "outputs": [],
   "source": [
    "#save model\n",
    "filename='72%model.sav'\n",
    "pickle.dump(clf, open(filename, 'wb'))"
   ]
  },
  {
   "cell_type": "code",
   "execution_count": 40,
   "metadata": {},
   "outputs": [
    {
     "name": "stdout",
     "output_type": "stream",
     "text": [
      "1.0\n"
     ]
    }
   ],
   "source": [
    "#load the model\n",
    "loaded_model = pickle.load(open('72%model.sav','rb'))\n",
    "result = loaded_model.score(tX, tY)\n",
    "print(result)"
   ]
  },
  {
   "cell_type": "markdown",
   "metadata": {},
   "source": [
    "<h1> score column</h1> \n",
    "<b1>1 = good pick<br>\n",
    "2 = meh pick<br>\n",
    "3 = bad pick</b1><br>\n",
    "keep in mind that it is only 72% accurate in the testing I did"
   ]
  },
  {
   "cell_type": "code",
   "execution_count": 71,
   "metadata": {
    "scrolled": false
   },
   "outputs": [
    {
     "name": "stdout",
     "output_type": "stream",
     "text": [
      "('Mitch Trubisky', 3)\n",
      "('Patrick Mahomes', 1)\n",
      "('Jordan Love', 3)\n",
      "('Tua Tagovailoa', 1)\n",
      "('Justin Herbert', 3)\n",
      "('Jalen Hurts', 3)\n",
      "('Joe Burrow', 1)\n"
     ]
    }
   ],
   "source": [
    "combine = zip(names, results)\n",
    "for i in combine:\n",
    "    print(i)"
   ]
  }
 ],
 "metadata": {
  "kernelspec": {
   "display_name": "Python 3",
   "language": "python",
   "name": "python3"
  },
  "language_info": {
   "codemirror_mode": {
    "name": "ipython",
    "version": 3
   },
   "file_extension": ".py",
   "mimetype": "text/x-python",
   "name": "python",
   "nbconvert_exporter": "python",
   "pygments_lexer": "ipython3",
   "version": "3.7.7"
  }
 },
 "nbformat": 4,
 "nbformat_minor": 4
}
